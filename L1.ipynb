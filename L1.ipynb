{
  "nbformat": 4,
  "nbformat_minor": 0,
  "metadata": {
    "colab": {
      "provenance": [],
      "collapsed_sections": [],
      "toc_visible": true,
      "authorship_tag": "ABX9TyOEAdj9VIndHBjVqXiasQaE",
      "include_colab_link": true
    },
    "kernelspec": {
      "name": "python3",
      "display_name": "Python 3"
    },
    "language_info": {
      "name": "python"
    }
  },
  "cells": [
    {
      "cell_type": "markdown",
      "metadata": {
        "id": "view-in-github",
        "colab_type": "text"
      },
      "source": [
        "<a href=\"https://colab.research.google.com/github/Rodrigol8/Syllabus/blob/main/L1.ipynb\" target=\"_parent\"><img src=\"https://colab.research.google.com/assets/colab-badge.svg\" alt=\"Open In Colab\"/></a>"
      ]
    },
    {
      "cell_type": "code",
      "execution_count": 1,
      "metadata": {
        "id": "gQKyez-qQ9uY"
      },
      "outputs": [],
      "source": [
        "import os\n",
        "from abc import ABCMeta, abstractmethod\n",
        "\n",
        "\n",
        "\n",
        "#ruta =input('Ingrese ruta del archivo: ')\n",
        "\n",
        "def LeerArchivos(pathfile):\n",
        "  with open(pathfile, 'r', encoding = 'utf-8') as archivo:\n",
        "      lineas = archivo.readlines()\n",
        "      primera_linea = lineas[0]\n",
        "      lista_numeros = primera_linea.split(' ')\n",
        "      C = int(lista_numeros[0])\n",
        "      N = int(lista_numeros[1])\n",
        "      #print(\"Numero características :\",C)\n",
        "      #print(\"Numero especies :\",N)\n",
        "      lista_caracteristicas = []\n",
        "      for i in lineas[1].split(','):\n",
        "        lista_caracteristicas.append(i.replace(\"\\n\",\"\").strip())\n",
        "      #print(\"lista características: \",lista_caracteristicas)\n",
        "      listaE = []\n",
        "      listaC = []\n",
        "      especies = []\n",
        "\n",
        "      for i in lineas[2:]:\n",
        "          listacc = []\n",
        "          for x in i.split(\",\"):\n",
        "              texto = x.replace('\\n','').strip()\n",
        "              \n",
        "              if texto == 'true':\n",
        "                  listacc.append(True)\n",
        "                  \n",
        "              elif texto =='false':\n",
        "                  listacc.append(False)\n",
        "              else:\n",
        "                  listacc.append(texto)\n",
        "          especies.append(listacc)\n",
        "\n",
        "      return C,N,lista_caracteristicas,especies\n",
        "\n",
        "\n"
      ]
    },
    {
      "cell_type": "code",
      "source": [
        "X1,X2,X3,X4 = LeerArchivos(\"ejemplo3.txt\")\n",
        "print(X1)\n",
        "print(X2)\n",
        "print(X3)\n",
        "print(X4)\n",
        "\n",
        "\n",
        "#LeerArchivos(\"ejemplo1.txt\")\n",
        "#LeerArchivos(\"ejemplo2.txt\")\n",
        "#LeerArchivos(\"ejemplo3.txt\")"
      ],
      "metadata": {
        "colab": {
          "base_uri": "https://localhost:8080/"
        },
        "id": "NohMXUBds9dv",
        "outputId": "8e51d0fa-6036-41fa-aa1f-d784a45b73bc"
      },
      "execution_count": 4,
      "outputs": [
        {
          "output_type": "stream",
          "name": "stdout",
          "text": [
            "5\n",
            "5\n",
            "['plumaje', 'pelaje', 'pulmones', 'molleja', 'mandibula']\n",
            "[['lamprea', False, False, False, False, False], ['antolope', False, True, True, False, True], ['robalo', False, False, False, False, True], ['aguila calva', True, False, True, True, True], ['caiman', False, False, True, True, True]]\n"
          ]
        }
      ]
    },
    {
      "cell_type": "code",
      "source": [
        "# Extraído de la clase 6 de árboles\n",
        "\n",
        "import os\n",
        "from abc import ABCMeta, abstractmethod\n",
        "\n",
        "class Arbol(metaclass = ABCMeta):\n",
        "    # Creamos la estructura básica del árbol. Los nodos hijos pueden ser guardados en alguna \n",
        "    # estructura como listas o diccionarios. Sin pérdidad de generalidad, en este ejemplo los\n",
        "    # nodos hijos serán guardados en un diccionario.\n",
        "    \n",
        "    def __init__(self, id_nodo, valor=None, id_padre=None):\n",
        "        self.id_nodo = id_nodo\n",
        "        self.id_padre = id_padre\n",
        "        self.valor = valor\n",
        "        self.hijos = {}       \n",
        "    \n",
        "    def agregar_nodo(self, id_nodo, valor=None, id_padre=None):\n",
        "        # Cada vez que agregamos un nodo verificamos primero si corresponde al nodo padre \n",
        "        # donde queremos agregar el nuevo nodo. Si no es el nodo, buscamos recursivamente \n",
        "        # a través de todos los nodos existentes hasta que encontremos el nodo correspondiente.\n",
        "        \n",
        "        if self.id_nodo == id_padre:\n",
        "            # Si el nodo es el nodo padre, entonces actualizamos el diccionario \n",
        "            # con los hijos\n",
        "            \n",
        "            self.hijos.update({id_nodo: Arbol(id_nodo, valor, id_padre)})\n",
        "            \n",
        "        else:\n",
        "            # Si no, recursivamente seguimos buscando en el árbol el nodo padre\n",
        "            \n",
        "            for hijo in self.hijos.values():\n",
        "                hijo.agregar_nodo(id_nodo, valor, id_padre)\n",
        "              \n",
        "    def obtener_nodo(self, id_nodo):\n",
        "        # recursivamente obtenemos el nodo siempre y cuando exista la posicion.\n",
        "        \n",
        "        if self.id_nodo == id_nodo:\n",
        "            return self\n",
        "        else:\n",
        "            for hijo in self.hijos.values():\n",
        "                nodo = hijo.obtener_nodo(id_nodo)\n",
        "                \n",
        "                if nodo:\n",
        "                    # retorna el nodo si es que existe en el árbol\n",
        "                    return nodo\n",
        "                             \n",
        "    def __repr__(self):\n",
        "        # Para visualizar el arbol redefinimos el método __repr__ para recorrer recursivamente\n",
        "        # todos los nodos del árbol.\n",
        "        \n",
        "        def recorrer_arbol(raiz):\n",
        "            for hijo in raiz.hijos.values():\n",
        "                self.ret += \"id-nodo: {} -> id_padre: {} -> valor: {}\\n\".format(hijo.id_nodo, hijo.id_padre, hijo.valor)\n",
        "                recorrer_arbol(hijo)\n",
        "                \n",
        "            return self\n",
        "\n",
        "        self.ret = 'RAIZ:\\nroot-id: {} -> valor: {}\\n\\nHIJOS:\\n'.format(self.id_nodo, self.valor)\n",
        "        recorrer_arbol(self)        \n",
        "        return self.ret"
      ],
      "metadata": {
        "id": "ENsKipnq5S3r"
      },
      "execution_count": 5,
      "outputs": []
    },
    {
      "cell_type": "code",
      "source": [
        "T = Arbol(0, 10)\n",
        "T.agregar_nodo(1, 8, 0)\n",
        "T.agregar_nodo(2, 12, 0)\n",
        "T.agregar_nodo(3, 4, 1)\n",
        "T.agregar_nodo(4, 9, 1)\n",
        "T.agregar_nodo(5, 1, 3)\n",
        "T.agregar_nodo(6, 18, 2)"
      ],
      "metadata": {
        "id": "Qu1i47sm-yOX"
      },
      "execution_count": null,
      "outputs": []
    },
    {
      "cell_type": "code",
      "source": [
        "class ArbolFilogenetico(Arbol):\n",
        "  def __init__(self):\n",
        "    self.id_nodo = 0\n",
        "    self.valor = {\"tipo\":\"Ancestro Común\"}\n",
        "    self.hijos = {}\n",
        "  \n",
        "  def cargar_arbol(self,archivo):\n",
        "    #self.archivo = LeerArchivos(archivo)\n",
        "    X1,X2,X3,X4 = LeerArchivos(archivo)\n",
        "    print(X1,X2,X3,X4)\n",
        "    contador = 0\n",
        "    for i in X3:\n",
        "      contador+=1\n",
        "      self.agregar_nodo(contador,i,0)\n",
        "    for j in X4:\n",
        "      contador+=1\n",
        "      self.agregar_nodo(contador,j[0],0)\n",
        "    #ahora que estan todos los nodos en el arbol, hay que ordenarlos.\n",
        "\n",
        "\n",
        "\n",
        "\n",
        "\n",
        "\n",
        "T1=ArbolFilogenetico()\n",
        "\n",
        "T1.agregar_nodo(1,\"pelaje\",0)\n",
        "\n",
        "T1.cargar_arbol(\"ejemplo3.txt\")\n",
        "print(T1)\n",
        "#d1 = {\"especie\":\"antilope\", \"plumaje\":\"Falso\", \"pelaje\":\"True\", \"molleja\":\"Falso\"}\n",
        "\n",
        "#ArbolFilogenetico = Arbol(0,\"Ancestro Común\")\n",
        "#ArbolFilogenetico.agregar_nodo(1,\"pelaje\",0)\n",
        "#ArbolFilogenetico.agregar_nodo(2,\"molleja\",0)\n",
        "#ArbolFilogenetico.agregar_nodo(3,\"antilope\",2)\n",
        "#ArbolFilogenetico.agregar_nodo(4,\"caiman\",2)\n",
        "#ArbolFilogenetico.agregar_nodo(5,\"plumaje\",2)\n",
        "#ArbolFilogenetico.agregar_nodo(6,\"aguila calva\",5)\n",
        "\n",
        "#print(ArbolFilogenetico)"
      ],
      "metadata": {
        "colab": {
          "base_uri": "https://localhost:8080/"
        },
        "id": "_TIyyZDt62dl",
        "outputId": "6a5591ae-b5e7-4db1-e4a1-43cfa52350d9"
      },
      "execution_count": 9,
      "outputs": [
        {
          "output_type": "stream",
          "name": "stdout",
          "text": [
            "5 5 ['plumaje', 'pelaje', 'pulmones', 'molleja', 'mandibula'] [['lamprea', False, False, False, False, False], ['antolope', False, True, True, False, True], ['robalo', False, False, False, False, True], ['aguila calva', True, False, True, True, True], ['caiman', False, False, True, True, True]]\n",
            "RAIZ:\n",
            "root-id: 0 -> valor: {'tipo': 'Ancestro Común'}\n",
            "\n",
            "HIJOS:\n",
            "id-nodo: 1 -> id_padre: 0 -> valor: plumaje\n",
            "id-nodo: 2 -> id_padre: 0 -> valor: pelaje\n",
            "id-nodo: 3 -> id_padre: 0 -> valor: pulmones\n",
            "id-nodo: 4 -> id_padre: 0 -> valor: molleja\n",
            "id-nodo: 5 -> id_padre: 0 -> valor: mandibula\n",
            "id-nodo: 6 -> id_padre: 0 -> valor: lamprea\n",
            "id-nodo: 7 -> id_padre: 0 -> valor: antolope\n",
            "id-nodo: 8 -> id_padre: 0 -> valor: robalo\n",
            "id-nodo: 9 -> id_padre: 0 -> valor: aguila calva\n",
            "id-nodo: 10 -> id_padre: 0 -> valor: caiman\n",
            "\n"
          ]
        }
      ]
    }
  ]
}